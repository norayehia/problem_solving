{
  "nbformat": 4,
  "nbformat_minor": 0,
  "metadata": {
    "colab": {
      "name": "problemsolving skills1.ipynb",
      "provenance": [],
      "collapsed_sections": []
    },
    "kernelspec": {
      "name": "python3",
      "display_name": "Python 3"
    },
    "language_info": {
      "name": "python"
    }
  },
  "cells": [
    {
      "cell_type": "markdown",
      "source": [
        "Task\n",
        "Given an integer, , perform the following conditional actions:\n",
        "\n",
        "If  is odd, print Weird\n",
        "If  is even and in the inclusive range of  to , print Not Weird\n",
        "If  is even and in the inclusive range of  to , print Weird\n",
        "If  is even and greater than , print Not Weird"
      ],
      "metadata": {
        "id": "wbR7phtIbtG9"
      }
    },
    {
      "cell_type": "code",
      "source": [
        "# Python program to check if the input number is odd or even.\n",
        "# A number is even if division by 2 gives a remainder of 0.\n",
        "# If the remainder is 1, it is an odd number.\n",
        "\n",
        "n = int(input(\"Enter a number: \"))\n",
        "if (n% 2) == 0:\n",
        "\n",
        "\n",
        "  if  n >= 2  and n<= 5  : # set conditions by if-elif-else statements\n",
        "        print(\"not weird\")\n",
        "\n",
        "  elif n >=6  and n<= 20 :\n",
        "         print(\"weird\")\n",
        "      \n",
        "  elif n >= 20 :\n",
        "         print(\" not weird\")   \n",
        "\n",
        "else:\n",
        "\n",
        "      print(\"weird\")"
      ],
      "metadata": {
        "colab": {
          "base_uri": "https://localhost:8080/"
        },
        "id": "jZHZiBwZmuVF",
        "outputId": "e4a8a5cd-9308-47d3-e900-d11a8752b572"
      },
      "execution_count": null,
      "outputs": [
        {
          "output_type": "stream",
          "name": "stdout",
          "text": [
            "Enter a number: 2\n",
            "not weird\n"
          ]
        }
      ]
    },
    {
      "cell_type": "code",
      "source": [
        "\n",
        "n = int(input(\"Enter a number: \"))\n",
        "\n",
        "#if  n >= 1 and n<= 100 :\n",
        "if (n% 2) == 0:\n",
        "\n",
        "\n",
        "      if  n >= 2  and n<= 5  : # set conditions by if-elif-else statements\n",
        "        print(\"Not Weird\")\n",
        "\n",
        "      elif n >=6  and n<= 20 :\n",
        "         print(\"Weird\")\n",
        "      \n",
        "      elif n >= 20 :\n",
        "         print(\"Not Weird\")   \n",
        "\n",
        "else:\n",
        "\n",
        "      print(\"Weird\")\n",
        "\n"
      ],
      "metadata": {
        "colab": {
          "base_uri": "https://localhost:8080/"
        },
        "id": "qMeOhT9UrRxe",
        "outputId": "2b914787-176d-47c7-ba7f-b10cfe45bfac"
      },
      "execution_count": null,
      "outputs": [
        {
          "output_type": "stream",
          "name": "stdout",
          "text": [
            "Enter a number: 3\n",
            "weird\n"
          ]
        }
      ]
    },
    {
      "cell_type": "markdown",
      "source": [
        "#!/bin/python\n",
        "\n",
        "import math\n",
        "import os\n",
        "import random\n",
        "import re\n",
        "import sys\n",
        "\n",
        "\n",
        "\n",
        "if __name__ == '__main__':\n",
        "    n = int(raw_input().strip())\n",
        "    if (n% 2) == 0:\n",
        "\n",
        "        if  n >= 2  and n<= 5  : # set conditions by if-elif-else statements\n",
        "           print(\"Not Weird\")\n",
        "\n",
        "        elif n >=6  and n<= 20 :\n",
        "           print(\"Weird\")\n",
        "      \n",
        "        elif n >= 20 and n<= 100:\n",
        "           print(\"Not Weird\")   \n",
        "\n",
        "    else:\n",
        "\n",
        "        print(\"Weird\")\n"
      ],
      "metadata": {
        "id": "7KhIzeWmJTnf"
      }
    },
    {
      "cell_type": "markdown",
      "source": [
        "#2arthmatic"
      ],
      "metadata": {
        "id": "2u9TeX9HJhad"
      }
    },
    {
      "cell_type": "code",
      "source": [
        "a = int(input(\"Enter a number: \"))\n",
        "b=  int(input(\"Enter a number: \"))\n",
        "ch=(input(\"Enter a number: \"))\n",
        "result = 0\n",
        "if ch == '+':\n",
        "   result= a+b\n",
        "elif ch == '-':\n",
        "   result= a-b\n",
        "elif ch == '*':\n",
        "   result= a*b\n",
        "\n",
        "else:\n",
        "    print(\"Input character is not recognized!\")\n",
        "print(result)"
      ],
      "metadata": {
        "colab": {
          "base_uri": "https://localhost:8080/"
        },
        "id": "fyz4Doyh9j2t",
        "outputId": "9a0d6153-370c-474c-eac5-774db0ab5c2f"
      },
      "execution_count": null,
      "outputs": [
        {
          "output_type": "stream",
          "name": "stdout",
          "text": [
            "Enter a number: 2\n",
            "Enter a number: 3\n",
            "Enter a number: +\n",
            "5\n"
          ]
        }
      ]
    },
    {
      "cell_type": "code",
      "source": [
        "a = int(input(\"Enter a number: \"))\n",
        "b=  int(input(\"Enter a number: \"))\n",
        "print(a+b)\n",
        "print(a-b)\n",
        "print(a*b)"
      ],
      "metadata": {
        "colab": {
          "base_uri": "https://localhost:8080/"
        },
        "id": "0LZAYyK9LoW5",
        "outputId": "cf662f42-3352-4044-fc5b-6b8e8829c728"
      },
      "execution_count": null,
      "outputs": [
        {
          "output_type": "stream",
          "name": "stdout",
          "text": [
            "Enter a number: 4\n",
            "Enter a number: 5\n",
            "9\n",
            "-1\n",
            "20\n"
          ]
        }
      ]
    },
    {
      "cell_type": "markdown",
      "source": [
        "3-loop"
      ],
      "metadata": {
        "id": "aYCUrv1F4DjN"
      }
    },
    {
      "cell_type": "code",
      "source": [
        "n = int(input(\"Enter a number: \"))\n",
        "if n>=0 and n<=20:\n",
        "  for x in range(n):\n",
        "     print(x**2)\n",
        "\n",
        "else:\n",
        "  print(\"no\")"
      ],
      "metadata": {
        "id": "e4FNKZs79pOq",
        "colab": {
          "base_uri": "https://localhost:8080/"
        },
        "outputId": "b50b5a65-7ed4-4fdf-ba5e-1a05e36a3aa1"
      },
      "execution_count": null,
      "outputs": [
        {
          "output_type": "stream",
          "name": "stdout",
          "text": [
            "Enter a number: 3\n",
            "0\n",
            "1\n",
            "4\n"
          ]
        }
      ]
    },
    {
      "cell_type": "markdown",
      "source": [
        "4-funcation"
      ],
      "metadata": {
        "id": "8mGJJmcS4IeD"
      }
    },
    {
      "cell_type": "code",
      "source": [
        "def is_leap(year):\n",
        "    leap = False\n",
        "    if year%4 ==0 and year%400==0:\n",
        "      leap = True\n",
        "    elif year % 100==0:\n",
        "      leap = False\n",
        "    else:\n",
        "      leap = False\n",
        "\n",
        "\n",
        "    # Write your logic here\n",
        "    \n",
        "    return leap\n",
        "\n",
        "year = int(input(\"Enter a number: \"))\n",
        "print (is_leap(year))"
      ],
      "metadata": {
        "colab": {
          "base_uri": "https://localhost:8080/"
        },
        "id": "mjB6_k6DUyQ2",
        "outputId": "1c32ea48-e20c-4c3b-97fc-6110d5c40186"
      },
      "execution_count": null,
      "outputs": [
        {
          "output_type": "stream",
          "name": "stdout",
          "text": [
            "Enter a number: 1992\n",
            "False\n"
          ]
        }
      ]
    }
  ]
}