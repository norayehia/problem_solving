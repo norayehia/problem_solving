{
  "nbformat": 4,
  "nbformat_minor": 0,
  "metadata": {
    "colab": {
      "name": "problemsolving2.ipynb",
      "provenance": [],
      "collapsed_sections": [],
      "authorship_tag": "ABX9TyPtFlFC0pe8Hbpuy5M1T+wD",
      "include_colab_link": true
    },
    "kernelspec": {
      "name": "python3",
      "display_name": "Python 3"
    },
    "language_info": {
      "name": "python"
    }
  },
  "cells": [
    {
      "cell_type": "markdown",
      "metadata": {
        "id": "view-in-github",
        "colab_type": "text"
      },
      "source": [
        "<a href=\"https://colab.research.google.com/github/norayehia/problem_solving/blob/master/problemsolving2.ipynb\" target=\"_parent\"><img src=\"https://colab.research.google.com/assets/colab-badge.svg\" alt=\"Open In Colab\"/></a>"
      ]
    },
    {
      "cell_type": "code",
      "execution_count": null,
      "metadata": {
        "id": "vrSJWhHL01hl"
      },
      "outputs": [],
      "source": [
        "\"\"\"\n",
        ">>> a = \"this is a string\"\n",
        ">>> a = a.split(\" \") # a is converted to a list of strings. \n",
        ">>> print a\n",
        "['this', 'is', 'a', 'string']\n",
        "\n",
        ">>> a = \"-\".join(a)\n",
        ">>> print a\n",
        "this-is-a-string \n",
        "\n",
        "\n",
        "\"\"\""
      ]
    },
    {
      "cell_type": "code",
      "source": [
        "def split_and_join(line):\n",
        " line = line.split(\" \")\n",
        " line = \"-\".join(line)\n",
        " return line"
      ],
      "metadata": {
        "id": "kxk4xdNN1287"
      },
      "execution_count": null,
      "outputs": []
    },
    {
      "cell_type": "code",
      "source": [
        "split_and_join(\"nora is mine\")"
      ],
      "metadata": {
        "colab": {
          "base_uri": "https://localhost:8080/",
          "height": 36
        },
        "id": "--x91CtL2Qbx",
        "outputId": "d18972e1-ce32-4904-d473-f8411dab2a3d"
      },
      "execution_count": null,
      "outputs": [
        {
          "output_type": "execute_result",
          "data": {
            "application/vnd.google.colaboratory.intrinsic+json": {
              "type": "string"
            },
            "text/plain": [
              "'nora-is-mine'"
            ]
          },
          "metadata": {},
          "execution_count": 12
        }
      ]
    },
    {
      "cell_type": "code",
      "source": [
        "def print_full_name(a, b):\n",
        "    # Write your code here\n",
        "   # b = b+\"!\"\n",
        "    print(\"Hello \" + a, b + \"! You just delved intopython.\")"
      ],
      "metadata": {
        "id": "9BTp-SfBB-mv"
      },
      "execution_count": null,
      "outputs": []
    },
    {
      "cell_type": "code",
      "source": [
        "print_full_name(\"N\", \"m\")"
      ],
      "metadata": {
        "colab": {
          "base_uri": "https://localhost:8080/"
        },
        "id": "bCi6Fxt2-Tdy",
        "outputId": "a4833a46-2c43-426a-8793-98b5d8a5e8af"
      },
      "execution_count": null,
      "outputs": [
        {
          "output_type": "stream",
          "name": "stdout",
          "text": [
            "Hello N m! You just delved intopython.\n"
          ]
        }
      ]
    },
    {
      "cell_type": "code",
      "source": [
        "\n",
        "\n"
      ],
      "metadata": {
        "id": "Xg43GSTQ_pSl"
      },
      "execution_count": null,
      "outputs": []
    }
  ]
}